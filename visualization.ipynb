{
 "cells": [
  {
   "cell_type": "code",
   "execution_count": 1,
   "metadata": {},
   "outputs": [
    {
     "name": "stderr",
     "output_type": "stream",
     "text": [
      "/home/siegmeyer/anaconda3/lib/python3.6/site-packages/ipykernel_launcher.py:12: SettingWithCopyWarning: \n",
      "A value is trying to be set on a copy of a slice from a DataFrame\n",
      "\n",
      "See the caveats in the documentation: http://pandas.pydata.org/pandas-docs/stable/indexing.html#indexing-view-versus-copy\n",
      "  if sys.path[0] == '':\n"
     ]
    }
   ],
   "source": [
    "#import numpy as np\n",
    "import pandas as pd\n",
    "import matplotlib.pyplot as plt\n",
    "import seaborn as sns\n",
    "\n",
    "df = pd.read_csv('AvalDiscente_20xx-x.csv', sep=';', error_bad_lines=False)\n",
    "\n",
    "header = list(df.columns.values) #list with column names\n",
    "\n",
    "for h in header[2:-1]:\n",
    "    #replaces NaN values with None\n",
    "    df[h][df[h].isnull()] = None\n",
    "    #replaces commas with dots for floats\n",
    "    df[h] = df[h].str.replace(\",\",\".\")\n",
    "    #converts everything to float\n",
    "    df[h] = df[h].astype(float)\n",
    "    #df[h].apply(lambda(x): ((float(x)) if (type(x) == str)))\n"
   ]
  },
  {
   "cell_type": "code",
   "execution_count": 2,
   "metadata": {
    "scrolled": true
   },
   "outputs": [],
   "source": [
    "## group question results by subject and class ##\n",
    "df_disc_tur = df.groupby(['Disciplina', 'Turma'])\n",
    "mean_di_tu = {}\n",
    "for group in df_disc_tur:\n",
    "    #assigns to key (subjects, class) the mean value of each question\n",
    "    mean_di_tu[group[0]] = group[1].mean()\n",
    "\n",
    "## creates new dataframe to hold means only ##\n",
    "df_disc_tur = pd.DataFrame(columns=header)\n",
    "i=0\n",
    "for key, value in mean_di_tu:\n",
    "    valores = []\n",
    "    #makes a list of all mean values\n",
    "    for v in mean_di_tu[(key, value)]:\n",
    "        valores.append(v)\n",
    "    #concatenates with the key\n",
    "    valores = [key, value] + valores\n",
    "    #new row for each class\n",
    "    df_disc_tur.loc[i] = valores\n",
    "    i+=1"
   ]
  },
  {
   "cell_type": "code",
   "execution_count": 3,
   "metadata": {
    "scrolled": true
   },
   "outputs": [
    {
     "name": "stdout",
     "output_type": "stream",
     "text": [
      "                                      Disciplina Turma        Q1        Q2  \\\n",
      "0                 ALGORÍTMOS E PROGRAMAÇÃO - CIC     A  4.580000  4.711538   \n",
      "1                 ALGORÍTMOS E PROGRAMAÇÃO - CIC     B  4.605556  4.871429   \n",
      "2                 ALGORÍTMOS E PROGRAMAÇÃO - CIC     C  4.252000  4.503571   \n",
      "3                 ALGORÍTMOS E PROGRAMAÇÃO - CIC     D  4.500000  4.666667   \n",
      "4                 ALGORÍTMOS E PROGRAMAÇÃO - CIC     E  4.922727  4.813793   \n",
      "5                 ALGORÍTMOS E PROGRAMAÇÃO - CIC     F  4.709524  4.876190   \n",
      "6     ARQUITETURA E DESEMPENHO DE BANCO DE DADOS     U  4.500000  4.905556   \n",
      "7    ARQUITETURA E ORGANIZAÇÃO DE COMPUTADORES I     A  4.511538  4.992593   \n",
      "8    ARQUITETURA E ORGANIZAÇÃO DE COMPUTADORES I     B  4.435000  4.819048   \n",
      "9    ARQUITETURA E ORGANIZAÇÃO DE COMPUTADORES I     C  4.477273  4.704167   \n",
      "10  ARQUITETURA E ORGANIZAÇÃO DE COMPUTADORES II     U  4.134615  3.475000   \n",
      "\n",
      "          Q3        Q4        Q5        Q6        Q7        Q8        Q9  \\\n",
      "0   4.409091  4.223077  4.615385  4.653846  4.423077  4.469231  4.707692   \n",
      "1   4.972222  4.531818  4.710000  4.940000  4.825000  4.750000  4.815000   \n",
      "2   4.790000  4.723333  4.610000  4.833333  4.596667  4.656667  4.740000   \n",
      "3   5.000000  4.600000  4.700000  4.500000  4.640000  4.800000  4.700000   \n",
      "4   4.966667  4.763333  5.000000  4.996667  4.800000  5.000000  4.833333   \n",
      "5   4.681818  4.581818  4.472727  4.718182  4.786364  4.640909  4.540909   \n",
      "6   4.605556  4.511111  4.300000  4.538889  4.766667  4.438889  4.194444   \n",
      "7   4.996296  4.874074  4.877778  4.892000  4.918519  4.988889  4.833333   \n",
      "8   4.845000  4.461905  4.285714  5.000000  4.819048  4.890476  4.404762   \n",
      "9   4.690476  4.783333  4.912500  4.933333  4.804167  4.950000  4.550000   \n",
      "10  4.938462  3.980000  4.553333  4.642857  4.442857  4.940000  4.030769   \n",
      "\n",
      "         Q10       Q11  TamTurma  \n",
      "0   4.229167  4.500000     200.0  \n",
      "1   4.357143  4.895000     100.0  \n",
      "2   4.621429  4.813333      50.0  \n",
      "3   4.500000  5.000000      76.0  \n",
      "4   4.836000  4.775000      89.0  \n",
      "5   4.705000  4.731818      56.0  \n",
      "6   4.476471  4.744444      60.0  \n",
      "7   4.925926  4.992593      82.0  \n",
      "8   4.500000  4.952381      75.0  \n",
      "9   4.704167  5.000000      80.0  \n",
      "10  4.275000  4.935714      90.0  \n"
     ]
    }
   ],
   "source": [
    "print(df_disc_tur)"
   ]
  },
  {
   "cell_type": "code",
   "execution_count": null,
   "metadata": {
    "scrolled": false
   },
   "outputs": [],
   "source": [
    "df_plot_box = df.copy()\n",
    "del df_plot_box['TamTurma']\n",
    "\n",
    "for h in header[2:-1]:\n",
    "    plotFileNameT = h + \"-turmas.png\"\n",
    "    plotFileNameD = h + \"-disciplinas.png\"\n",
    "    fig, ax = plt.subplots(figsize=(20,20))\n",
    "    boxPlotT = sns.boxplot(ax=ax, x='Disciplina', y=h, data=df, width=0.5,\n",
    "                          palette=\"colorblind\", linewidth=2.5, hue='Turma')\n",
    "    fig, ax = plt.subplots(figsize=(20,20))\n",
    "    boxPlotT.figure.savefig(plotFileNameT, format='png', dpi=100)\n",
    "    boxPlotD = sns.boxplot(ax=ax, x='Disciplina', y=h, data=df, width=0.5,\n",
    "                          palette=\"colorblind\", linewidth=2.5)\n",
    "    boxPlotD.figure.savefig(plotFileNameD, format='png', dpi=100)"
   ]
  },
  {
   "cell_type": "code",
   "execution_count": null,
   "metadata": {},
   "outputs": [],
   "source": []
  }
 ],
 "metadata": {
  "kernelspec": {
   "display_name": "Python 3",
   "language": "python",
   "name": "python3"
  },
  "language_info": {
   "codemirror_mode": {
    "name": "ipython",
    "version": 3
   },
   "file_extension": ".py",
   "mimetype": "text/x-python",
   "name": "python",
   "nbconvert_exporter": "python",
   "pygments_lexer": "ipython3",
   "version": "3.6.4"
  }
 },
 "nbformat": 4,
 "nbformat_minor": 2
}
